{
 "cells": [
  {
   "cell_type": "code",
   "execution_count": null,
   "metadata": {},
   "outputs": [],
   "source": [
    "pip install mysql-connector"
   ]
  },
  {
   "cell_type": "code",
   "execution_count": 35,
   "metadata": {},
   "outputs": [],
   "source": [
    "import mysql.connector"
   ]
  },
  {
   "cell_type": "code",
   "execution_count": 36,
   "metadata": {},
   "outputs": [],
   "source": [
    "mydb = mysql.connector.connect(\n",
    "\thost=\"Host name\",\n",
    "\tuser=\"Username\",\n",
    "\tpasswd=\"Password\",\n",
    "\tdatabase=\"Database name\")\n"
   ]
  },
  {
   "cell_type": "code",
   "execution_count": 37,
   "metadata": {},
   "outputs": [],
   "source": [
    "mycursor=mydb.cursor()"
   ]
  },
  {
   "cell_type": "code",
   "execution_count": 28,
   "metadata": {},
   "outputs": [],
   "source": [
    "sql=\"CREATE TABLE Chocolates (ID int,Name VARCHAR(30),Quantity INT,Price float)\"\n",
    "mycursor.execute(sql)"
   ]
  },
  {
   "cell_type": "code",
   "execution_count": 39,
   "metadata": {},
   "outputs": [
    {
     "name": "stdout",
     "output_type": "stream",
     "text": [
      "4 was inserted.\n"
     ]
    }
   ],
   "source": [
    "sql1=\"INSERT INTO Chocolates VALUES (%s,%s,%s,%s)\"\n",
    "val=[\n",
    "    ('1','Dairy milk','12','10'),\n",
    "    ('2','Kit kat','25','20'),\n",
    "    ('3','Perk','16','5'),\n",
    "    ('4','Snickers','10','75')\n",
    "]\n",
    "mycursor.executemany(sql1, val)\n",
    "\n",
    "mydb.commit()\n",
    "\n",
    "print(mycursor.rowcount, \"was inserted.\")"
   ]
  },
  {
   "cell_type": "code",
   "execution_count": 42,
   "metadata": {},
   "outputs": [
    {
     "name": "stdout",
     "output_type": "stream",
     "text": [
      "('ID', 'Name', 'Quantity', 'Price')\n",
      "(1, 'Dairy milk', 12, 10.0)\n",
      "(2, 'Kit kat', 25, 20.0)\n",
      "(3, 'Perk', 16, 5.0)\n",
      "(4, 'Snickers', 10, 75.0)\n"
     ]
    }
   ],
   "source": [
    "sql=\"SELECT * FROM Chocolates\"\n",
    "mycursor.execute(sql)\n",
    "myresult=mycursor.fetchall()\n",
    "\n",
    "print(mycursor.column_names)\n",
    "for x in myresult:\n",
    "\tprint(x)"
   ]
  },
  {
   "cell_type": "code",
   "execution_count": null,
   "metadata": {},
   "outputs": [],
   "source": []
  }
 ],
 "metadata": {
  "kernelspec": {
   "display_name": "Python 3",
   "language": "python",
   "name": "python3"
  },
  "language_info": {
   "codemirror_mode": {
    "name": "ipython",
    "version": 3
   },
   "file_extension": ".py",
   "mimetype": "text/x-python",
   "name": "python",
   "nbconvert_exporter": "python",
   "pygments_lexer": "ipython3",
   "version": "3.7.3"
  }
 },
 "nbformat": 4,
 "nbformat_minor": 2
}
